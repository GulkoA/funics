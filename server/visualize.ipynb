{
 "cells": [
  {
   "cell_type": "code",
   "execution_count": 1,
   "metadata": {},
   "outputs": [],
   "source": [
    "import pandas as pd\n",
    "from pyvis.network import Network\n",
    "\n",
    "from dictionary import Dictionary\n",
    "from word_net import WordNet\n",
    "\n",
    "dictionary = Dictionary('../vocab.json')\n",
    "network = WordNet(dictionary)\n",
    "for word in dictionary.get_words():\n",
    "  word_obj = dictionary.get_word(word)\n",
    "  network.add_word(word, dictionary.get_stripped_transcription(word_obj), dictionary.get_audio_url(word_obj))"
   ]
  },
  {
   "cell_type": "code",
   "execution_count": 3,
   "metadata": {},
   "outputs": [
    {
     "name": "stdout",
     "output_type": "stream",
     "text": [
      "graph.html\n"
     ]
    },
    {
     "data": {
      "text/html": [
       "\n",
       "        <iframe\n",
       "            width=\"100%\"\n",
       "            height=\"750px\"\n",
       "            src=\"graph.html\"\n",
       "            frameborder=\"0\"\n",
       "            allowfullscreen\n",
       "            \n",
       "        ></iframe>\n",
       "        "
      ],
      "text/plain": [
       "<IPython.lib.display.IFrame at 0x245edd3f380>"
      ]
     },
     "execution_count": 3,
     "metadata": {},
     "output_type": "execute_result"
    }
   ],
   "source": [
    "edges = []\n",
    "for word in network.words:\n",
    "  for sound in word.transcription:\n",
    "    edges.append((word.word, sound))\n",
    "\n",
    "nodes = [*dictionary.get_words(), *dictionary.get_all_sounds()]\n",
    "\n",
    "net = Network(notebook = True, cdn_resources = \"remote\",\n",
    "                bgcolor = \"#000000\",\n",
    "                font_color = \"white\",\n",
    "                height = \"750px\",\n",
    "                width = \"100%\"\n",
    ")\n",
    "net.add_nodes(nodes)\n",
    "net.add_edges(edges)\n",
    "net.show(\"graph.html\")\n"
   ]
  }
 ],
 "metadata": {
  "kernelspec": {
   "display_name": "base",
   "language": "python",
   "name": "python3"
  },
  "language_info": {
   "codemirror_mode": {
    "name": "ipython",
    "version": 3
   },
   "file_extension": ".py",
   "mimetype": "text/x-python",
   "name": "python",
   "nbconvert_exporter": "python",
   "pygments_lexer": "ipython3",
   "version": "3.12.3"
  }
 },
 "nbformat": 4,
 "nbformat_minor": 2
}
