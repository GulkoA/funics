{
 "cells": [
  {
   "cell_type": "code",
   "execution_count": 1,
   "metadata": {},
   "outputs": [],
   "source": [
    "import pandas as pd\n",
    "from pyvis.network import Network\n",
    "\n",
    "from dictionary import Dictionary\n",
    "from word_net import WordNet\n",
    "\n",
    "dictionary = Dictionary()\n",
    "network = WordNet(dictionary)\n",
    "for word in dictionary.get_words():\n",
    "  word_obj = dictionary.get_word(word)\n",
    "  network.add_word(word, dictionary.get_stripped_transcription(word_obj), dictionary.get_audio_url(word_obj))"
   ]
  }
 ],
 "metadata": {
  "kernelspec": {
   "display_name": "base",
   "language": "python",
   "name": "python3"
  },
  "language_info": {
   "codemirror_mode": {
    "name": "ipython",
    "version": 3
   },
   "file_extension": ".py",
   "mimetype": "text/x-python",
   "name": "python",
   "nbconvert_exporter": "python",
   "pygments_lexer": "ipython3",
   "version": "3.12.3"
  }
 },
 "nbformat": 4,
 "nbformat_minor": 2
}
