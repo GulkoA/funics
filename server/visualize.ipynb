{
 "cells": [
  {
   "cell_type": "code",
   "execution_count": 1,
   "metadata": {},
   "outputs": [
    {
     "ename": "NameError",
     "evalue": "name 'sounds' is not defined",
     "output_type": "error",
     "traceback": [
      "\u001b[1;31m---------------------------------------------------------------------------\u001b[0m",
      "\u001b[1;31mNameError\u001b[0m                                 Traceback (most recent call last)",
      "Cell \u001b[1;32mIn[1], line 8\u001b[0m\n\u001b[0;32m      5\u001b[0m \u001b[38;5;28;01mfrom\u001b[39;00m \u001b[38;5;21;01mword_net\u001b[39;00m \u001b[38;5;28;01mimport\u001b[39;00m WordNet\n\u001b[0;32m      7\u001b[0m dictionary \u001b[38;5;241m=\u001b[39m Dictionary()\n\u001b[1;32m----> 8\u001b[0m \u001b[38;5;28mprint\u001b[39m(\u001b[43msounds\u001b[49m)\n\u001b[0;32m      9\u001b[0m network \u001b[38;5;241m=\u001b[39m WordNet(sounds)\n\u001b[0;32m     10\u001b[0m words \u001b[38;5;241m=\u001b[39m get_words()\n",
      "\u001b[1;31mNameError\u001b[0m: name 'sounds' is not defined"
     ]
    }
   ],
   "source": [
    "import pandas as pd\n",
    "from pyvis.network import Network\n",
    "\n",
    "from dictionary_bartender import Dictionary\n",
    "from word_net import WordNet\n",
    "\n",
    "dictionary = Dictionary()\n",
    "print(sounds)\n",
    "network = WordNet(sounds)\n",
    "words = get_words()\n",
    "for word in words:\n",
    "  print(word)\n",
    "  network.add_word(word)"
   ]
  }
 ],
 "metadata": {
  "kernelspec": {
   "display_name": "base",
   "language": "python",
   "name": "python3"
  },
  "language_info": {
   "codemirror_mode": {
    "name": "ipython",
    "version": 3
   },
   "file_extension": ".py",
   "mimetype": "text/x-python",
   "name": "python",
   "nbconvert_exporter": "python",
   "pygments_lexer": "ipython3",
   "version": "3.12.3"
  }
 },
 "nbformat": 4,
 "nbformat_minor": 2
}
